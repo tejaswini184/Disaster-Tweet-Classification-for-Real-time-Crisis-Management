{
 "cells": [
  {
   "cell_type": "code",
   "execution_count": 1,
   "id": "b744f51a-a32d-445b-9962-1b624b2c61b0",
   "metadata": {},
   "outputs": [
    {
     "name": "stdout",
     "output_type": "stream",
     "text": [
      "Dataset Info:\n",
      "<class 'pandas.core.frame.DataFrame'>\n",
      "RangeIndex: 11370 entries, 0 to 11369\n",
      "Data columns (total 5 columns):\n",
      " #   Column    Non-Null Count  Dtype \n",
      "---  ------    --------------  ----- \n",
      " 0   id        11370 non-null  int64 \n",
      " 1   keyword   11370 non-null  object\n",
      " 2   location  7952 non-null   object\n",
      " 3   text      11370 non-null  object\n",
      " 4   target    11370 non-null  int64 \n",
      "dtypes: int64(2), object(3)\n",
      "memory usage: 444.3+ KB\n",
      "None\n",
      "\n",
      "Summary Statistics:\n",
      "                 id        target\n",
      "count  11370.000000  11370.000000\n",
      "mean    5684.500000      0.185928\n",
      "std     3282.380615      0.389066\n",
      "min        0.000000      0.000000\n",
      "25%     2842.250000      0.000000\n",
      "50%     5684.500000      0.000000\n",
      "75%     8526.750000      0.000000\n",
      "max    11369.000000      1.000000\n",
      "\n",
      "Missing Values:\n",
      "id             0\n",
      "keyword        0\n",
      "location    3418\n",
      "text           0\n",
      "target         0\n",
      "dtype: int64\n"
     ]
    }
   ],
   "source": [
    "import pandas as pd\n",
    "\n",
    "df = pd.read_csv(r\"C:\\Users\\kamba\\Downloads\\tweets.csv\\tweets.csv\") \n",
    "\n",
    "print(\"Dataset Info:\")\n",
    "print(df.info())\n",
    "\n",
    "print(\"\\nSummary Statistics:\")\n",
    "print(df.describe())\n",
    "\n",
    "print(\"\\nMissing Values:\")\n",
    "print(df.isnull().sum())\n"
   ]
  },
  {
   "cell_type": "code",
   "execution_count": null,
   "id": "1dc62152-251c-4193-a13b-c19738fab3c0",
   "metadata": {},
   "outputs": [],
   "source": []
  }
 ],
 "metadata": {
  "kernelspec": {
   "display_name": "Python 3 (ipykernel)",
   "language": "python",
   "name": "python3"
  },
  "language_info": {
   "codemirror_mode": {
    "name": "ipython",
    "version": 3
   },
   "file_extension": ".py",
   "mimetype": "text/x-python",
   "name": "python",
   "nbconvert_exporter": "python",
   "pygments_lexer": "ipython3",
   "version": "3.12.4"
  }
 },
 "nbformat": 4,
 "nbformat_minor": 5
}
